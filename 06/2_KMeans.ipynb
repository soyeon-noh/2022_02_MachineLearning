{
 "cells": [
  {
   "cell_type": "markdown",
   "metadata": {},
   "source": [
    "# k평균"
   ]
  },
  {
   "cell_type": "markdown",
   "metadata": {},
   "source": [
    "## KMeans 클래스"
   ]
  },
  {
   "cell_type": "code",
   "execution_count": null,
   "metadata": {},
   "outputs": [],
   "source": [
    "!wget https://bit.ly/fruits_300_data -O fruits_300.npy"
   ]
  },
  {
   "cell_type": "code",
   "execution_count": null,
   "metadata": {},
   "outputs": [],
   "source": [
    "import numpy as np\n",
    "\n",
    "fruits = np.load('fruits_300.npy')\n",
    "fruits_2d = fruits.reshape(-1, 100*100)"
   ]
  },
  {
   "cell_type": "code",
   "execution_count": null,
   "metadata": {},
   "outputs": [],
   "source": [
    "# 모델 훈련\n",
    "## cluster 아래에는 굉장히 많은 군집 알고리즘이 있다.\n",
    "## 여기서는 간단하게 하나면 사용해본다.\n",
    "from sklearn.cluster import KMeans\n",
    "\n",
    "# KMeans 알고리즘\n",
    "## 클러스터의 개수를 미리 지정해줘야한다.\n",
    "## 랜덤...을 지정해주지 않으면 뭐가안된다..?\n",
    "km = KMeans(n_clusters=3, random_state=42)\n",
    "## 타깃이 존재하지 않는다. 때문에 과대적합, 과소적합 개념이 없다.\n",
    "km.fit(fruits_2d) "
   ]
  },
  {
   "cell_type": "code",
   "execution_count": null,
   "metadata": {},
   "outputs": [],
   "source": [
    "print(km.labels_)"
   ]
  },
  {
   "cell_type": "code",
   "execution_count": null,
   "metadata": {},
   "outputs": [],
   "source": [
    "print(np.unique(km.labels_, return_counts=True))"
   ]
  },
  {
   "cell_type": "code",
   "execution_count": null,
   "metadata": {},
   "outputs": [],
   "source": [
    "import matplotlib.pyplot as plt\n",
    "\n",
    "def draw_fruits(arr, ratio=1):\n",
    "    n = len(arr)    # n은 샘플 개수입니다\n",
    "    # 한 줄에 10개씩 이미지를 그립니다. 샘플 개수를 10으로 나누어 전체 행 개수를 계산합니다. \n",
    "    rows = int(np.ceil(n/10))\n",
    "    # 행이 1개 이면 열 개수는 샘플 개수입니다. 그렇지 않으면 10개입니다.\n",
    "    cols = n if rows < 2 else 10\n",
    "    fig, axs = plt.subplots(rows, cols, \n",
    "                            figsize=(cols*ratio, rows*ratio), squeeze=False)\n",
    "    for i in range(rows):\n",
    "        for j in range(cols):\n",
    "            if i*10 + j < n:    # n 개까지만 그립니다.\n",
    "                axs[i, j].imshow(arr[i*10 + j], cmap='gray_r')\n",
    "            axs[i, j].axis('off')\n",
    "    plt.show()"
   ]
  },
  {
   "cell_type": "code",
   "execution_count": null,
   "metadata": {},
   "outputs": [],
   "source": [
    "# index가 임의로 붙기 떄문에 직접 보기 전까지 어떤 과일이 0번일지 알 수 없다. \n",
    "\n",
    "# 파인애플\n",
    "draw_fruits(fruits[km.labels_==0])"
   ]
  },
  {
   "cell_type": "code",
   "execution_count": null,
   "metadata": {},
   "outputs": [],
   "source": [
    "# 바나나\n",
    "draw_fruits(fruits[km.labels_==1])"
   ]
  },
  {
   "cell_type": "code",
   "execution_count": null,
   "metadata": {},
   "outputs": [],
   "source": [
    "# 사과\n",
    "draw_fruits(fruits[km.labels_==2])"
   ]
  },
  {
   "cell_type": "markdown",
   "metadata": {},
   "source": [
    "## 클러스터 중심"
   ]
  },
  {
   "cell_type": "code",
   "execution_count": null,
   "metadata": {},
   "outputs": [],
   "source": [
    "# 클러스터 중심을 찾았다.\n",
    "# 클러스터 중심인 센트로이드(centroid)가 cluster_centers_ 속성에 들어가 있다.\n",
    "### 3차원으로 바꿔서 draw_fruits 에 넣어서 중심값을 출력했다.\n",
    "draw_fruits(km.cluster_centers_.reshape(-1, 100, 100), ratio=3)\n",
    "\n",
    "## 파인애플, 바나나, 사과"
   ]
  },
  {
   "cell_type": "code",
   "execution_count": null,
   "metadata": {},
   "outputs": [],
   "source": [
    "# fruits_2d에 있는 100번째 샘플을 골라서 집어넣어보자\n",
    "## 첫 번째 센트로이드까지의 거리, 두번째, 세번째 ... 출력해본다.\n",
    "## 값을 보면 첫 번째 센트로이드까지의 거리가 가장 적다.\n",
    "## 즉, 이 샘플은 첫 번째 클러스터에 속할 가능성이 높다!\n",
    "print(km.transform(fruits_2d[100:101]))"
   ]
  },
  {
   "cell_type": "code",
   "execution_count": null,
   "metadata": {},
   "outputs": [],
   "source": [
    "# 샘플이 어떤 클러스터에 속해 있는지 직접 확인\n",
    "print(km.predict(fruits_2d[100:101]))"
   ]
  },
  {
   "cell_type": "code",
   "execution_count": null,
   "metadata": {},
   "outputs": [],
   "source": [
    "# 샘플을 그려보기\n",
    "draw_fruits(fruits[100:101])"
   ]
  },
  {
   "cell_type": "code",
   "execution_count": null,
   "metadata": {},
   "outputs": [],
   "source": [
    "# 군집을 다시묶고 클러스터링을하고 하는 반복을 몇번했는지 출력\n",
    "print(km.n_iter_)"
   ]
  },
  {
   "cell_type": "markdown",
   "metadata": {},
   "source": [
    "## 최적의 k 찾기"
   ]
  },
  {
   "cell_type": "code",
   "execution_count": null,
   "metadata": {},
   "outputs": [],
   "source": [
    "# 2개, 3개 ... 등등 여러개의 군집으로 나눠본다\n",
    "# 클러스터의 이너셔 값(km.inertia_) 을 계산해본다.\n",
    "\n",
    "## 클러스터 값을 늘리면 이너셔 값이 줄어드는 게 일반적\n",
    "## 명확하지는 않지만 꺾이는 값이 있다.\n",
    "## 해당 위치의 k값이 최적의 k값으로 볼 수 있다.\n",
    "## 여기서는 3.0 이 해당된다.\n",
    "inertia = []\n",
    "for k in range(2, 7):\n",
    "    km = KMeans(n_clusters=k, random_state=42)\n",
    "    km.fit(fruits_2d)\n",
    "    inertia.append(km.inertia_)\n",
    "\n",
    "plt.plot(range(2, 7), inertia)\n",
    "plt.xlabel('k')\n",
    "plt.ylabel('inertia')\n",
    "plt.show()"
   ]
  }
 ],
 "metadata": {
  "language_info": {
   "name": "python"
  },
  "orig_nbformat": 4
 },
 "nbformat": 4,
 "nbformat_minor": 2
}
