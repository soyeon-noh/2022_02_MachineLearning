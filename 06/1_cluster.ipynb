{
 "cells": [
  {
   "cell_type": "markdown",
   "metadata": {},
   "source": [
    "## 이미지 데이터"
   ]
  },
  {
   "cell_type": "code",
   "execution_count": null,
   "metadata": {},
   "outputs": [],
   "source": [
    "# 과일 사진 데이터 준비\n",
    "## 파일명을 fruits_300.npy 이름으로 저장\n",
    "!wget https://bit.ly/fruits_300_data -O fruits_300.npy"
   ]
  },
  {
   "cell_type": "code",
   "execution_count": null,
   "metadata": {},
   "outputs": [],
   "source": [
    "# 샘플을 확인해보자\n",
    "import numpy as np\n",
    "import matplotlib.pyplot as plt\n",
    "\n",
    "fruits = np.load('fruits_300.npy')\n",
    "\n",
    "print(fruits.shape)\n",
    "## 총 300개의 샘플\n",
    "## 각 샘플은 100x100 크기의 흑백이미지다."
   ]
  },
  {
   "cell_type": "code",
   "execution_count": null,
   "metadata": {},
   "outputs": [],
   "source": [
    "## 첫 번째 행을 전부다 출력해보자 \n",
    "## [0, 0] 해도 결과가 같지만 3차원이라는 걸 보여주기위해 : 를 넣어놨다.\n",
    "print(fruits[0, 0, :])"
   ]
  },
  {
   "cell_type": "code",
   "execution_count": null,
   "metadata": {},
   "outputs": [],
   "source": [
    "# imshow는 image로 보여주는 함수\n",
    "## cmap= : 사용할 컬러톤의 종료를 지정해줄 수 있다.\n",
    "plt.imshow(fruits[0], cmap='gray')\n",
    "plt.show()\n",
    "\n",
    "### 하얀색이 높은 수(255), 검은색이 낮은 수(1)로 나타난다\n",
    "### 0~255 (어두운색~밝은색)"
   ]
  },
  {
   "cell_type": "code",
   "execution_count": null,
   "metadata": {},
   "outputs": [],
   "source": [
    "# 우리 눈에 익숙한 형태로 만들어본다\n",
    "# 반전하는 gray_r\n",
    "plt.imshow(fruits[0], cmap='gray_r')\n",
    "plt.show()"
   ]
  },
  {
   "cell_type": "code",
   "execution_count": null,
   "metadata": {},
   "outputs": [],
   "source": [
    "fig, axs = plt.subplots(1, 2)\n",
    "axs[0].imshow(fruits[100], cmap='gray_r')\n",
    "axs[1].imshow(fruits[200], cmap='gray_r')\n",
    "plt.show()"
   ]
  },
  {
   "cell_type": "markdown",
   "metadata": {},
   "source": [
    "## 필셀 값 분석하기"
   ]
  },
  {
   "cell_type": "code",
   "execution_count": null,
   "metadata": {},
   "outputs": [],
   "source": [
    "# fruits배열에 0~99번이 사과, 100~199번이 파인애플, 200~300번이 바나나다\n",
    "# 100x100의 2차원 배열을 첫번째차원과 두번째차원을 합쳐서 쭉 펼쳐 10000개의 요소가 있는 1차원 배열로 만든 것이다.\n",
    "apple = fruits[0:100].reshape(-1, 100*100)\n",
    "pineapple = fruits[100:200].reshape(-1, 100*100)\n",
    "banana = fruits[200:300].reshape(-1, 100*100)\n",
    "\n",
    "# 100개의 사과가 있고 10000개의 픽셀이 있는 2차원 배열이다\n",
    "print(apple.shape)"
   ]
  },
  {
   "cell_type": "code",
   "execution_count": null,
   "metadata": {},
   "outputs": [],
   "source": [
    "# 사과 100개의 픽셀 평균\n",
    "print(apple.mean(axis=1))"
   ]
  },
  {
   "cell_type": "code",
   "execution_count": null,
   "metadata": {},
   "outputs": [],
   "source": [
    "# 샘플 평균의 히스토그램\n",
    "plt.hist(np.mean(apple, axis=1), alpha=0.8)\n",
    "plt.hist(np.mean(pineapple, axis=1), alpha=0.8)\n",
    "plt.hist(np.mean(banana, axis=1), alpha=0.8)\n",
    "plt.legend(['apple', 'pineapple', 'banana'])\n",
    "plt.show()"
   ]
  },
  {
   "cell_type": "code",
   "execution_count": null,
   "metadata": {},
   "outputs": [],
   "source": [
    "# 픽셀 평균의 히스토그램\n",
    "fig, axs = plt.subplots(1, 3, figsize=(20, 5))\n",
    "## x축 0~10000 범위 ,y축 픽셀 평균의 값\n",
    "axs[0].bar(range(10000), np.mean(apple, axis=0))\n",
    "axs[1].bar(range(10000), np.mean(pineapple, axis=0))\n",
    "axs[2].bar(range(10000), np.mean(banana, axis=0))\n",
    "plt.show()"
   ]
  },
  {
   "cell_type": "code",
   "execution_count": null,
   "metadata": {},
   "outputs": [],
   "source": [
    "# 평균 이미지 그리기\n",
    "apple_mean = np.mean(apple, axis=0).reshape(100, 100)\n",
    "pineapple_mean = np.mean(pineapple, axis=0).reshape(100, 100)\n",
    "banana_mean = np.mean(banana, axis=0).reshape(100, 100)\n",
    "\n",
    "fig, axs = plt.subplots(1, 3, figsize=(20, 5))\n",
    "\n",
    "axs[0].imshow(apple_mean, cmap='gray_r')        # 사과 100개의 평균 이미지\n",
    "axs[1].imshow(pineapple_mean, cmap='gray_r')    # 파인애플 100개의 평균 이미지\n",
    "axs[2].imshow(banana_mean, cmap='gray_r')       # 바나나 100개의 평균 이미지\n",
    "plt.show()"
   ]
  },
  {
   "cell_type": "markdown",
   "metadata": {},
   "source": [
    "## 평균값과 가까운 사진 고르기"
   ]
  },
  {
   "cell_type": "code",
   "execution_count": null,
   "metadata": {},
   "outputs": [],
   "source": [
    "# 평균값과 가까운 사진 고르기\n",
    "## np.abs : 절댓값\n",
    "## fruits : 300개 과일\n",
    "## apple_mean : 사과 평균\n",
    "## 평균과의 뺄샘 후 절댓값을 씌워서 그 차이를 abs_diff에 담는다.\n",
    "abs_diff = np.abs(fruits - apple_mean)\n",
    "# 300개의 원소로 이루어진 1차원 배열\n",
    "abs_mean = np.mean(abs_diff, axis=(1,2))\n",
    "print(abs_mean.shape)\n",
    "\n",
    "# 이 abs_mean이 가장 작은 것이 평균과 가장 가까운 것이다.\n",
    "# 이를 찾아내보자"
   ]
  },
  {
   "cell_type": "code",
   "execution_count": null,
   "metadata": {},
   "outputs": [],
   "source": [
    "# argsort 함수를 사용하여 정렬하고\n",
    "# 가장 작은 값의 index값을 apple_index에 담는다.\n",
    "# 이중에 100개만 짤라서 보여준다.\n",
    "# 그 안에 사과만 들어있으면 완벽!\n",
    "apple_index = np.argsort(abs_mean)[:100]\n",
    "# 10x10로 보여주자\n",
    "fig, axs = plt.subplots(10, 10, figsize=(10,10))\n",
    "for i in range(10):\n",
    "    for j in range(10):\n",
    "      # imshow 함수를 사용하여 fruits 이미지를 그려본다.\n",
    "        axs[i, j].imshow(fruits[apple_index[i*10 + j]], cmap='gray_r')\n",
    "        axs[i, j].axis('off')\n",
    "plt.show()"
   ]
  },
  {
   "cell_type": "code",
   "execution_count": null,
   "metadata": {},
   "outputs": [],
   "source": []
  }
 ],
 "metadata": {
  "language_info": {
   "name": "python"
  },
  "orig_nbformat": 4
 },
 "nbformat": 4,
 "nbformat_minor": 2
}
