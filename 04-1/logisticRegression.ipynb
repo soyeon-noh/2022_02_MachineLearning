{
 "cells": [
  {
   "cell_type": "code",
   "execution_count": 2,
   "metadata": {},
   "outputs": [
    {
     "ename": "ModuleNotFoundError",
     "evalue": "No module named 'pandas'",
     "output_type": "error",
     "traceback": [
      "\u001b[1;31m---------------------------------------------------------------------------\u001b[0m",
      "\u001b[1;31mModuleNotFoundError\u001b[0m                       Traceback (most recent call last)",
      "\u001b[1;32mC:\\Users\\Public\\Documents\\ESTsoft\\CreatorTemp\\ipykernel_7740\\2243483034.py\u001b[0m in \u001b[0;36m<module>\u001b[1;34m\u001b[0m\n\u001b[1;32m----> 1\u001b[1;33m \u001b[1;32mimport\u001b[0m \u001b[0mpandas\u001b[0m \u001b[1;32mas\u001b[0m \u001b[0mpd\u001b[0m\u001b[1;33m\u001b[0m\u001b[1;33m\u001b[0m\u001b[0m\n\u001b[0m\u001b[0;32m      2\u001b[0m \u001b[1;33m\u001b[0m\u001b[0m\n\u001b[0;32m      3\u001b[0m \u001b[0mfish\u001b[0m \u001b[1;33m=\u001b[0m \u001b[0mpd\u001b[0m\u001b[1;33m.\u001b[0m\u001b[0mread_csv\u001b[0m\u001b[1;33m(\u001b[0m\u001b[1;34m'https://bit.ly/fish_csv_data'\u001b[0m\u001b[1;33m)\u001b[0m\u001b[1;33m\u001b[0m\u001b[1;33m\u001b[0m\u001b[0m\n\u001b[0;32m      4\u001b[0m \u001b[0mfish\u001b[0m\u001b[1;33m.\u001b[0m\u001b[0mhead\u001b[0m\u001b[1;33m(\u001b[0m\u001b[1;33m)\u001b[0m\u001b[1;33m\u001b[0m\u001b[1;33m\u001b[0m\u001b[0m\n",
      "\u001b[1;31mModuleNotFoundError\u001b[0m: No module named 'pandas'"
     ]
    }
   ],
   "source": [
    "import pandas as pd\n",
    "\n",
    "# 데이터 준비\n",
    "## csv 파일을 데이터 프레임으로 변환한 후 \n",
    "## head() 메서드로 처음 5개 행 출력\n",
    "fish = pd.read_csv('https://bit.ly/fish_csv_data')\n",
    "fish.head()\n",
    "\n",
    "## 어떤 종류의 생선이 있는지 unique() 함수를 통해 Species 열에서 고유한 값 추출\n",
    "print(pd.unique(fish['Species']))\n",
    "\n",
    "\n",
    "## Species 열을 타깃으로 만들고 나머지 5개 열을 입력 데이터로 사용\n",
    "fish_input = fish[['Weight', 'Length', 'Diagonal', 'Height', 'Width']].to_numpy()\n",
    "\n",
    "print(fish_input[:5])\n",
    "\n",
    "## 동일한 방식으로 타겟 데이터 생성\n",
    "fish_target = fish['Species'].to_numpy()\n",
    "\n",
    "## 데이터를 훈련 세트와 테스트 세트로 나눈다\n",
    "from sklearn.model_selection import train_test_split\n",
    "train_input, test_input, train_target, test_target = train_test_split(\n",
    "    fish_input, fish_target, random_state=42)\n",
    "\n",
    "## 사이킷 런의 StandardScaler 클래스를 사용해 훈련 세트와 테스트 세트를 표준화 전처리\n",
    "from sklearn.preprocessing import StandardScaler\n",
    "ss = StandardScaler()\n",
    "ss.fit(train_input)\n",
    "train_scaled = ss.transform(train_input)\n",
    "test_scaled = ss.transform(test_input)\n",
    "\n",
    "\n",
    "\n",
    "\n",
    "# k-최근접 이웃 분류기의 확률 예측\n",
    "## KNeighborsClassifier 클래스 객체로 훈련\n",
    "## 최근접 이웃 개수 k = 3\n",
    "from sklearn.neighbors import KNeighborsClassifier\n",
    "\n",
    "kn = KNeighborsClassifier(n_neighbors=3)\n",
    "kn.fit(train_scaled, train_target)\n",
    "\n",
    "print(kn.score(train_scaled, train_target))\n",
    "print(kn.score(test_scaled, test_target))\n",
    "\n",
    "\n",
    "# 다중분류\n",
    "## 위와 같이 이진 분류와 모델을 만들고 훈련하는 방식은 동일하다\n",
    "## 이진 분류 - 양성 클래스와 음성 클래스를 1과 0으로 지정하여 타깃 데이터 생성\n",
    "## 다중 분류 - 다중 분류도 타깃값을 숫자로 바꾸어 입력할 수 있지만, \n",
    "##            사이킷런에서는 문자열로 된 타깃값을 그대로 사용 가능\n",
    "### 주의할 점 : 타깃값을 그대로 사이킷런 모델에 전달하면 순서가 자동으로 알파벳 순으로 정렬됨\n",
    "###           print(kn.classes_) 를 통해 순서를 확인할 수 있다.\n",
    "\n",
    "print(kn.classes_)\n",
    "\n",
    "## 테스트 세트에 있는 처음 5개 샘플의 타깃값 예측\n",
    "print(kn.predict(test_scaled[:5]))\n",
    "\n",
    "## 테스트 세트에 있는 처음 5개 샘플에 대한 확률 출력\n",
    "## 넘파이 round() 함수 : 기본적으로 소수점 첫째 자리에서 반올림. decimals 매개변수로 유지할 수수점 아래 자릿수 지정 가능\n",
    "import numpy as np\n",
    "proba = kn.predict_proba(test_scaled[:5])\n",
    "print(np.round(proba, decimals=4))\n",
    "\n",
    "\n"
   ]
  },
  {
   "cell_type": "code",
   "execution_count": null,
   "metadata": {},
   "outputs": [],
   "source": [
    "# 로지스틱 회귀\n",
    "\n",
    "import numpy as np\n",
    "import matplotlib.pyplot as plt\n",
    "z = np.arange(-5, 5, 0.1)\n",
    "phi = 1/(1+ np.exp(-z))\n",
    "plt.plot(z, phi)\n",
    "plt.xlabel('z')\n",
    "plt.ylabel('phi')\n",
    "plt.show()\n"
   ]
  },
  {
   "cell_type": "code",
   "execution_count": null,
   "metadata": {},
   "outputs": [],
   "source": [
    "# 로지스틱 회귀로 이진 분류 수행\n",
    "\n",
    "## 불리언 인덱싱 : 넘파이 배열에 True, False 값을 전달하여 행을 선택하는 것\n",
    "### 'A'와 'C'만 골라내기위해 첫 번째와 세 번째 원소에 True 값을 전달하고 나머지는 False 전달\n",
    "char_arr = np.array(['A', 'B', 'C', 'D', 'E'])\n",
    "print(char_arr[[True, False, True, False, False]])\n"
   ]
  },
  {
   "cell_type": "code",
   "execution_count": null,
   "metadata": {},
   "outputs": [],
   "source": [
    "## 위와 같은 방식으로 훈련 세트에서 도미와 빙어의 행만 골라내자\n",
    "bream_smelt_indexes = (train_target == 'Bream') | (train_target == 'Smelt')\n",
    "train_bream_smelt = train_scaled[bream_smelt_indexes]\n",
    "target_bream_smelt = train_target[bream_smelt_indexes]\n",
    "\n",
    "## 현재 bream_smelt_indexes 배열은 도미와 빙어일 경우 True 그 외는 모두 False\n",
    "## 이 배열을 사용해 train_scaled와 train_target 배열에 불리언 인덱싱을 적용하면 \n",
    "## 도미와 빙어 데이터만 골라낼 수 있다.\n",
    "\n",
    "## 위 데이터로 로지스틱 회귀 모델을 훈련\n",
    "from sklearn.linear_model import LogisticRegression\n",
    "lr = LogisticRegression()\n",
    "lr.fit(train_bream_smelt, target_bream_smelt)\n",
    "\n",
    "## train_bream_smelt에 있는 처음 샘플 5개 예측\n",
    "print(lr.predict(train_bream_smelt[:5]))\n",
    "\n",
    "## predict_proba() 메서드로 train_bream_smelt 에서 처음 5개의 샘플의 예측 확률 출력\n",
    "print(lr.predict_proba(train_bream_smelt[:5]))\n",
    "\n",
    "print(lr.classes_)\n",
    "\n"
   ]
  },
  {
   "cell_type": "code",
   "execution_count": null,
   "metadata": {},
   "outputs": [],
   "source": [
    "## 로지스틱 회귀가 학습한 계수 확인\n",
    "print(lr.coef_, lr.intercept_)"
   ]
  },
  {
   "cell_type": "code",
   "execution_count": null,
   "metadata": {},
   "outputs": [],
   "source": [
    "# z값을 출력해주는 decisions 함수 \n",
    "decisions = lr.decision_function(train_bream_smelt[:5])\n",
    "print(decisions)"
   ]
  },
  {
   "cell_type": "code",
   "execution_count": null,
   "metadata": {},
   "outputs": [],
   "source": [
    "# z 값을 시그모이드 함수에 통과시키면 함수를 얻을 수 있다.\n",
    "## 파이썬의 사이파이 라이브러리의 시그모이드 함수인 expit() 를 사용해보자\n",
    "from scipy.special import expit\n",
    "print(expit(decisions))"
   ]
  }
 ],
 "metadata": {
  "interpreter": {
   "hash": "cbc1630f6ac27d00c9f4ea5ff59d07a3d2920d2fb3e683b05679c37215caa53f"
  },
  "kernelspec": {
   "display_name": "Python 3.7.4 64-bit",
   "language": "python",
   "name": "python3"
  },
  "language_info": {
   "codemirror_mode": {
    "name": "ipython",
    "version": 3
   },
   "file_extension": ".py",
   "mimetype": "text/x-python",
   "name": "python",
   "nbconvert_exporter": "python",
   "pygments_lexer": "ipython3",
   "version": "3.7.4"
  },
  "orig_nbformat": 4
 },
 "nbformat": 4,
 "nbformat_minor": 2
}
